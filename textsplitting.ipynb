{
 "cells": [
  {
   "cell_type": "code",
   "execution_count": 2,
   "metadata": {},
   "outputs": [],
   "source": [
    "text = \"\"\"When Quentin Tarantino traveled for the\n",
    "first time to Amsterdam and Paris, flush\n",
    "with the critical success of “Reservoir\n",
    "Dogs” and still piecing together the quilt\n",
    "of “Pulp Fiction,” he was tickled by the\n",
    "absence of any Quarter Pounders with\n",
    "Cheese on the European culinary scene,\n",
    "a casualty of the metric system. It was\n",
    "just the kind of thing that comes up\n",
    "among friends who are stoned or killing\n",
    "time. Later, when every nook and cranny\n",
    "of “Pulp Fiction” had become quoted and\n",
    "quantified, this minor burger observation entered pop\n",
    "culture with a flourish as part of what fans call the\n",
    "“Tarantinoverse.”\n",
    "With its interlocking story structure, looping time frame,\n",
    "and electric jolts, “Pulp Fiction” uses the grammar of film\n",
    "to explore the amusement park of the Tarantinoverse, a\n",
    "stylized merging of the mundane with the unthinkable,\n",
    "all set in a 1970s time warp. Tarantino is the first of a\n",
    "slacker generation to be idolized and deconstructed as\n",
    "much for his attitude, quirks, and knowledge of popculture arcana as for his output, which as of this writing\n",
    "has been Jack-Rabbit slim.\n",
    "Each segment rises to a giddy crescendo. The hitmen\n",
    "played by John Travolta and Samuel L. Jackson retrieve\n",
    "their boss’s valuable suitcase but accidentally shoot their\n",
    "informant in the face, leaving a horrible mess in the car\n",
    "that needs to be cleaned up ASAP. Vincent Vega\n",
    "(Travolta) takes the boss’s wife (Uma Thurman) out for\n",
    "an evening, at the end of which she ODs and is brought\n",
    "back from the dead like something out of a low-budget\n",
    "horror movie. A boxer (Bruce Willis) refuses to take a dive but can’t leave town until he retrieves the watch his\n",
    "father took great pains to leave him (he hid it in his rectum in a POW camp), and which was inadvertently left in\n",
    "his now heavily guarded apartment. The boxer and the\n",
    "crime boss he stiffed (Ving Rhames) stumble into the hell\n",
    "of a redneck S&M dungeon. And two young lovers\n",
    "(Amanda Plummer and Tim Roth) try to rob a diner but\n",
    "come up against what just might be divine intervention.\n",
    "These escalations also amount to pissing contests, with\n",
    "the winner advancing up the toughness ladder\n",
    "(something a new generation certainly related to through\n",
    "video games, which are similarly structured). Travolta\n",
    "gets to stare down Willis (whom he dismisses as\n",
    "“Punchy”), something that could only happen in a movie\n",
    "directed by an ardent fan of “Welcome Back Kotter.” In\n",
    "each grouping, the alpha male is soon determined, and\n",
    "the scene involves appeasing him. (In the segment called\n",
    "“The Bonnie Situation,” for example, even the big crime\n",
    "boss is so inexplicably afraid of upsetting Bonnie, a night\n",
    "nurse, that he sends in his top guy, played by Harvey Keitel, to keep from getting on her bad side.)\n",
    "All of this takes place in the course of twenty-four hours,\n",
    "although the stories are shuffled so that one character\n",
    "who has recently been shot to hell on a toilet seat is back\n",
    "in business, unaware of his fate, in a subsequent scene.\n",
    "On Internet newsgroups, debates rage over such minutiae as what was inside the glowing briefcase, but like\n",
    "many Internet debates, it misses the point. The briefcase\n",
    "was an homage to “Kiss Me Deadly.” Fans are correct in\n",
    "assuming there’s a reason for everything in the Tarantinoverse, but they persist in focusing on the literal (the\n",
    "director’s fondness for certain breakfast cereals, for example) instead of the broader inspiration of directors\n",
    "such as Godard, whose work Tarantino soaked up as a\n",
    "high-school dropout toiling for minimum wage at a\n",
    "Southern California video store. The dance scene at Jack\n",
    "Rabbit Slim’s, for example, is an homage to Godard’s\n",
    "“Bande à part,” which is also the inspiration for the name\n",
    "of Tarantino’s production company (A Band Apart).\n",
    "\"\"\""
   ]
  },
  {
   "cell_type": "code",
   "execution_count": 3,
   "metadata": {},
   "outputs": [
    {
     "data": {
      "text/plain": [
       "'When Quentin Tarantino traveled for the\\nfirst time to Amsterdam and Paris, flush\\nwith the critical success of “Reservoir\\nDogs” and still piecing together the quilt\\nof “Pulp Fiction,” he was tickled by'"
      ]
     },
     "execution_count": 3,
     "metadata": {},
     "output_type": "execute_result"
    }
   ],
   "source": [
    "text[:200]"
   ]
  },
  {
   "cell_type": "code",
   "execution_count": 6,
   "metadata": {},
   "outputs": [],
   "source": [
    "chunks = []\n",
    "s = \"\"\n",
    "for word in text:\n",
    "    s += word + \"\"\n",
    "    if len(s)>200:\n",
    "        chunks.append(s)\n",
    "        s = \"\"\n",
    "        \n",
    "chunks.append(s)        "
   ]
  },
  {
   "cell_type": "code",
   "execution_count": 8,
   "metadata": {},
   "outputs": [
    {
     "data": {
      "text/plain": [
       "'When Quentin Tarantino traveled for the\\nfirst time to Amsterdam and Paris, flush\\nwith the critical success of “Reservoir\\nDogs” and still piecing together the quilt\\nof “Pulp Fiction,” he was tickled by '"
      ]
     },
     "execution_count": 8,
     "metadata": {},
     "output_type": "execute_result"
    }
   ],
   "source": [
    "chunks[0]"
   ]
  },
  {
   "cell_type": "code",
   "execution_count": 10,
   "metadata": {},
   "outputs": [
    {
     "data": {
      "text/plain": [
       "23"
      ]
     },
     "execution_count": 10,
     "metadata": {},
     "output_type": "execute_result"
    }
   ],
   "source": [
    "from langchain.text_splitter import RecursiveCharacterTextSplitter\n",
    "r_splitter =RecursiveCharacterTextSplitter(\n",
    "    separators=[\"\\n\\n\",\"\\n\",\" \"],\n",
    "    chunk_size = 200,\n",
    "    chunk_overlap = 0\n",
    ")\n",
    "chunks = r_splitter.split_text(text)\n",
    "len(chunks)"
   ]
  },
  {
   "cell_type": "code",
   "execution_count": 11,
   "metadata": {},
   "outputs": [
    {
     "name": "stdout",
     "output_type": "stream",
     "text": [
      "163\n",
      "193\n",
      "173\n",
      "190\n",
      "166\n",
      "191\n",
      "166\n",
      "159\n",
      "108\n",
      "113\n",
      "166\n",
      "157\n",
      "156\n",
      "159\n",
      "163\n",
      "172\n",
      "160\n",
      "172\n",
      "164\n",
      "167\n",
      "163\n",
      "159\n",
      "108\n"
     ]
    }
   ],
   "source": [
    "for chunk in chunks:\n",
    "    print(len(chunk))"
   ]
  },
  {
   "cell_type": "code",
   "execution_count": null,
   "metadata": {},
   "outputs": [],
   "source": []
  }
 ],
 "metadata": {
  "kernelspec": {
   "display_name": "base",
   "language": "python",
   "name": "python3"
  },
  "language_info": {
   "codemirror_mode": {
    "name": "ipython",
    "version": 3
   },
   "file_extension": ".py",
   "mimetype": "text/x-python",
   "name": "python",
   "nbconvert_exporter": "python",
   "pygments_lexer": "ipython3",
   "version": "3.12.7"
  }
 },
 "nbformat": 4,
 "nbformat_minor": 2
}
